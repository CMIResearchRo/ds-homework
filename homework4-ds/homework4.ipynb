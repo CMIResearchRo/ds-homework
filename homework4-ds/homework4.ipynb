{
 "cells": [
  {
   "cell_type": "markdown",
   "metadata": {},
   "source": [
    "### Description\n",
    "* Please complete all the exercises in this homework in order. The main objective of the homework is to walk you through a toy problem for regression.\n",
    "* The data for this homework is available in the `.db` file provided inside this folder. Please use this file to extract the data using SQL.\n",
    "* Complete the exercises by filling in each code cell below. No need to create a separate file. Simply add your code to each cell and then run it.\n",
    "* Once you complete your homework, please upload the notebook to your forked repo.\n",
    "* Deadline: 15 Nov 2021 @ 23.59.59 EEST"
   ]
  },
  {
   "cell_type": "markdown",
   "metadata": {},
   "source": [
    "#### Step 1 - Connect to the SQLite database using sqlite3"
   ]
  },
  {
   "cell_type": "code",
   "execution_count": 2,
   "metadata": {},
   "outputs": [],
   "source": [
    "# Your code goes here\n",
    "\n",
    "import sqlite3\n",
    "conn = sqlite3.connect(\"homework4.db\")"
   ]
  },
  {
   "cell_type": "markdown",
   "metadata": {},
   "source": [
    "#### Step 2 - Load the data using pandas.read_sql()\n",
    "* https://pandas.pydata.org/pandas-docs/stable/reference/api/pandas.read_sql.html"
   ]
  },
  {
   "cell_type": "code",
   "execution_count": 3,
   "metadata": {},
   "outputs": [],
   "source": [
    "# Your code goes here\n",
    "\n",
    "import pandas as pd\n",
    "data=pd.read_sql(\"SELECT * FROM homework4;\", conn)"
   ]
  },
  {
   "cell_type": "markdown",
   "metadata": {},
   "source": [
    "#### Step 3 - Explore the data\n",
    "Before building a model, check out your data and ensure that it is clean. Things you should be careful about include:\n",
    "\n",
    "* null or missing values\n",
    "* unmatched data types\n",
    "* anomalies (very large or very small values)\n",
    "\n",
    "Please note that your data set is a modified version of the data available here: https://scikit-learn.org/stable/modules/generated/sklearn.datasets.load_diabetes.html"
   ]
  },
  {
   "cell_type": "code",
   "execution_count": 4,
   "metadata": {},
   "outputs": [
    {
     "name": "stdout",
     "output_type": "stream",
     "text": [
      "<class 'pandas.core.frame.DataFrame'>\n",
      "RangeIndex: 884 entries, 0 to 883\n",
      "Data columns (total 12 columns):\n",
      " #   Column  Non-Null Count  Dtype  \n",
      "---  ------  --------------  -----  \n",
      " 0   id      884 non-null    int64  \n",
      " 1   age     884 non-null    float64\n",
      " 2   sex     884 non-null    float64\n",
      " 3   bmi     884 non-null    float64\n",
      " 4   bp      884 non-null    float64\n",
      " 5   s1      884 non-null    float64\n",
      " 6   s2      884 non-null    float64\n",
      " 7   s3      884 non-null    float64\n",
      " 8   s4      884 non-null    float64\n",
      " 9   s5      884 non-null    float64\n",
      " 10  s6      884 non-null    float64\n",
      " 11  target  884 non-null    float64\n",
      "dtypes: float64(11), int64(1)\n",
      "memory usage: 83.0 KB\n"
     ]
    }
   ],
   "source": [
    "data.info()"
   ]
  },
  {
   "cell_type": "code",
   "execution_count": 5,
   "metadata": {},
   "outputs": [
    {
     "name": "stdout",
     "output_type": "stream",
     "text": [
      "<class 'pandas.core.frame.DataFrame'>\n",
      "RangeIndex: 884 entries, 0 to 883\n",
      "Data columns (total 12 columns):\n",
      " #   Column  Non-Null Count  Dtype  \n",
      "---  ------  --------------  -----  \n",
      " 0   id      884 non-null    int64  \n",
      " 1   age     884 non-null    float64\n",
      " 2   sex     884 non-null    float64\n",
      " 3   bmi     884 non-null    float64\n",
      " 4   bp      884 non-null    float64\n",
      " 5   s1      884 non-null    float64\n",
      " 6   s2      884 non-null    float64\n",
      " 7   s3      884 non-null    float64\n",
      " 8   s4      884 non-null    float64\n",
      " 9   s5      884 non-null    float64\n",
      " 10  s6      884 non-null    float64\n",
      " 11  target  884 non-null    float64\n",
      "dtypes: float64(11), int64(1)\n",
      "memory usage: 83.0 KB\n"
     ]
    }
   ],
   "source": [
    "# Your code goes here\n",
    "data.info()\n"
   ]
  },
  {
   "cell_type": "code",
   "execution_count": 5,
   "metadata": {},
   "outputs": [
    {
     "name": "stdout",
     "output_type": "stream",
     "text": [
      "id        0\n",
      "age       0\n",
      "sex       0\n",
      "bmi       0\n",
      "bp        0\n",
      "s1        0\n",
      "s2        0\n",
      "s3        0\n",
      "s4        0\n",
      "s5        0\n",
      "s6        0\n",
      "target    0\n",
      "dtype: int64\n"
     ]
    }
   ],
   "source": [
    "nulls_number = data.isnull().sum()\n",
    "print(nulls_number)"
   ]
  },
  {
   "cell_type": "code",
   "execution_count": 6,
   "metadata": {},
   "outputs": [
    {
     "data": {
      "text/plain": [
       "id        0\n",
       "age       0\n",
       "sex       0\n",
       "bmi       0\n",
       "bp        0\n",
       "s1        0\n",
       "s2        0\n",
       "s3        0\n",
       "s4        0\n",
       "s5        0\n",
       "s6        0\n",
       "target    0\n",
       "dtype: int64"
      ]
     },
     "execution_count": 6,
     "metadata": {},
     "output_type": "execute_result"
    }
   ],
   "source": [
    "data.isna().sum()"
   ]
  },
  {
   "cell_type": "code",
   "execution_count": 8,
   "metadata": {},
   "outputs": [
    {
     "name": "stdout",
     "output_type": "stream",
     "text": [
      "      id       age       sex       bmi        bp        s1        s2  \\\n",
      "442  443  0.038076  0.050680  0.061696  0.021872 -0.044223 -0.034821   \n",
      "443  444 -0.001882 -0.044642 -0.051474 -0.026328 -0.008449 -0.019163   \n",
      "444  445  0.085299  0.050680  0.044451 -0.005671 -0.045599 -0.034194   \n",
      "445  446 -0.089063 -0.044642 -0.011595 -0.036656  0.012191  0.024991   \n",
      "446  447  0.005383 -0.044642 -0.036385  0.021872  0.003935  0.015596   \n",
      "..   ...       ...       ...       ...       ...       ...       ...   \n",
      "879  880  0.041708  0.050680  0.019662  0.059744 -0.005697 -0.002566   \n",
      "880  881 -0.005515  0.050680 -0.015906 -0.067642  0.049341  0.079165   \n",
      "881  882  0.041708  0.050680 -0.015906  0.017282 -0.037344 -0.013840   \n",
      "882  883 -0.045472 -0.044642  0.039062  0.001215  0.016318  0.015283   \n",
      "883  884 -0.045472 -0.044642 -0.073030 -0.081414  0.083740  0.027809   \n",
      "\n",
      "           s3        s4        s5        s6  target  \n",
      "442 -0.043401 -0.002592  0.019908 -0.017646   151.0  \n",
      "443  0.074412 -0.039493 -0.068330 -0.092204    75.0  \n",
      "444 -0.032356 -0.002592  0.002864 -0.025930   141.0  \n",
      "445 -0.036038  0.034309  0.022692 -0.009362   206.0  \n",
      "446  0.008142 -0.002592 -0.031991 -0.046641   135.0  \n",
      "..        ...       ...       ...       ...     ...  \n",
      "879 -0.028674 -0.002592  0.031193  0.007207   178.0  \n",
      "880 -0.028674  0.034309 -0.018118  0.044485   104.0  \n",
      "881 -0.024993 -0.011080 -0.046879  0.015491   132.0  \n",
      "882 -0.028674  0.026560  0.044528 -0.025930   220.0  \n",
      "883  0.173816 -0.039493 -0.004220  0.003064    57.0  \n",
      "\n",
      "[442 rows x 12 columns]\n"
     ]
    }
   ],
   "source": [
    "duplicates = data[data.duplicated(['age', 'sex', 'bmi', 'bp', 's1', \"s2\", \"s3\", \"s4\", \"s5\", \"s6\", \"target\"])]\n",
    "print(duplicates)"
   ]
  },
  {
   "cell_type": "markdown",
   "metadata": {},
   "source": [
    "Please provide a description of your findings below:\n",
    "\n",
    "* Finding 1:"
   ]
  },
  {
   "cell_type": "code",
   "execution_count": 9,
   "metadata": {},
   "outputs": [
    {
     "name": "stdout",
     "output_type": "stream",
     "text": [
      "442\n"
     ]
    }
   ],
   "source": [
    "#Your code goes here:\n",
    "\n",
    "new_data = data.drop_duplicates(subset=[\"age\", \"sex\", \"bmi\", \"bp\", \"s1\", \"s2\", \"s3\", \"s4\", \"s5\", \"s6\", \"target\"])\n",
    "print(len(new_data))"
   ]
  },
  {
   "cell_type": "code",
   "execution_count": 10,
   "metadata": {},
   "outputs": [
    {
     "data": {
      "text/plain": [
       "array([[<AxesSubplot:title={'center':'id'}>,\n",
       "        <AxesSubplot:title={'center':'age'}>,\n",
       "        <AxesSubplot:title={'center':'sex'}>],\n",
       "       [<AxesSubplot:title={'center':'bmi'}>,\n",
       "        <AxesSubplot:title={'center':'bp'}>,\n",
       "        <AxesSubplot:title={'center':'s1'}>],\n",
       "       [<AxesSubplot:title={'center':'s2'}>,\n",
       "        <AxesSubplot:title={'center':'s3'}>,\n",
       "        <AxesSubplot:title={'center':'s4'}>],\n",
       "       [<AxesSubplot:title={'center':'s5'}>,\n",
       "        <AxesSubplot:title={'center':'s6'}>,\n",
       "        <AxesSubplot:title={'center':'target'}>]], dtype=object)"
      ]
     },
     "execution_count": 10,
     "metadata": {},
     "output_type": "execute_result"
    },
    {
     "data": {
      "image/png": "[encoded data removed]",
      "text/plain": [
       "<Figure size 432x288 with 12 Axes>"
      ]
     },
     "metadata": {
      "needs_background": "light"
     },
     "output_type": "display_data"
    }
   ],
   "source": [
    "import numpy as np\n",
    "%matplotlib inline\n",
    "new_data.hist()"
   ]
  },
  {
   "cell_type": "code",
   "execution_count": 11,
   "metadata": {},
   "outputs": [
    {
     "data": {
      "text/html": [
       "<div>\n",
       "<style scoped>\n",
       "    .dataframe tbody tr th:only-of-type {\n",
       "        vertical-align: middle;\n",
       "    }\n",
       "\n",
       "    .dataframe tbody tr th {\n",
       "        vertical-align: top;\n",
       "    }\n",
       "\n",
       "    .dataframe thead th {\n",
       "        text-align: right;\n",
       "    }\n",
       "</style>\n",
       "<table border=\"1\" class=\"dataframe\">\n",
       "  <thead>\n",
       "    <tr style=\"text-align: right;\">\n",
       "      <th></th>\n",
       "      <th>id</th>\n",
       "      <th>age</th>\n",
       "      <th>sex</th>\n",
       "      <th>bmi</th>\n",
       "      <th>bp</th>\n",
       "      <th>s1</th>\n",
       "      <th>s2</th>\n",
       "      <th>s3</th>\n",
       "      <th>s4</th>\n",
       "      <th>s5</th>\n",
       "      <th>s6</th>\n",
       "      <th>target</th>\n",
       "    </tr>\n",
       "  </thead>\n",
       "  <tbody>\n",
       "    <tr>\n",
       "      <th>count</th>\n",
       "      <td>442.000000</td>\n",
       "      <td>4.420000e+02</td>\n",
       "      <td>4.420000e+02</td>\n",
       "      <td>4.420000e+02</td>\n",
       "      <td>4.420000e+02</td>\n",
       "      <td>4.420000e+02</td>\n",
       "      <td>4.420000e+02</td>\n",
       "      <td>4.420000e+02</td>\n",
       "      <td>4.420000e+02</td>\n",
       "      <td>4.420000e+02</td>\n",
       "      <td>4.420000e+02</td>\n",
       "      <td>442.000000</td>\n",
       "    </tr>\n",
       "    <tr>\n",
       "      <th>mean</th>\n",
       "      <td>221.500000</td>\n",
       "      <td>-3.634285e-16</td>\n",
       "      <td>1.308343e-16</td>\n",
       "      <td>-8.045349e-16</td>\n",
       "      <td>1.281655e-16</td>\n",
       "      <td>-8.835316e-17</td>\n",
       "      <td>1.327024e-16</td>\n",
       "      <td>-4.574646e-16</td>\n",
       "      <td>3.777301e-16</td>\n",
       "      <td>-3.830854e-16</td>\n",
       "      <td>-3.412882e-16</td>\n",
       "      <td>152.133484</td>\n",
       "    </tr>\n",
       "    <tr>\n",
       "      <th>std</th>\n",
       "      <td>127.738666</td>\n",
       "      <td>4.761905e-02</td>\n",
       "      <td>4.761905e-02</td>\n",
       "      <td>4.761905e-02</td>\n",
       "      <td>4.761905e-02</td>\n",
       "      <td>4.761905e-02</td>\n",
       "      <td>4.761905e-02</td>\n",
       "      <td>4.761905e-02</td>\n",
       "      <td>4.761905e-02</td>\n",
       "      <td>4.761905e-02</td>\n",
       "      <td>4.761905e-02</td>\n",
       "      <td>77.093005</td>\n",
       "    </tr>\n",
       "    <tr>\n",
       "      <th>min</th>\n",
       "      <td>1.000000</td>\n",
       "      <td>-1.072256e-01</td>\n",
       "      <td>-4.464164e-02</td>\n",
       "      <td>-9.027530e-02</td>\n",
       "      <td>-1.123996e-01</td>\n",
       "      <td>-1.267807e-01</td>\n",
       "      <td>-1.156131e-01</td>\n",
       "      <td>-1.023071e-01</td>\n",
       "      <td>-7.639450e-02</td>\n",
       "      <td>-1.260974e-01</td>\n",
       "      <td>-1.377672e-01</td>\n",
       "      <td>25.000000</td>\n",
       "    </tr>\n",
       "    <tr>\n",
       "      <th>25%</th>\n",
       "      <td>111.250000</td>\n",
       "      <td>-3.729927e-02</td>\n",
       "      <td>-4.464164e-02</td>\n",
       "      <td>-3.422907e-02</td>\n",
       "      <td>-3.665645e-02</td>\n",
       "      <td>-3.424784e-02</td>\n",
       "      <td>-3.035840e-02</td>\n",
       "      <td>-3.511716e-02</td>\n",
       "      <td>-3.949338e-02</td>\n",
       "      <td>-3.324879e-02</td>\n",
       "      <td>-3.317903e-02</td>\n",
       "      <td>87.000000</td>\n",
       "    </tr>\n",
       "    <tr>\n",
       "      <th>50%</th>\n",
       "      <td>221.500000</td>\n",
       "      <td>5.383060e-03</td>\n",
       "      <td>-4.464164e-02</td>\n",
       "      <td>-7.283766e-03</td>\n",
       "      <td>-5.670611e-03</td>\n",
       "      <td>-4.320866e-03</td>\n",
       "      <td>-3.819065e-03</td>\n",
       "      <td>-6.584468e-03</td>\n",
       "      <td>-2.592262e-03</td>\n",
       "      <td>-1.947634e-03</td>\n",
       "      <td>-1.077698e-03</td>\n",
       "      <td>140.500000</td>\n",
       "    </tr>\n",
       "    <tr>\n",
       "      <th>75%</th>\n",
       "      <td>331.750000</td>\n",
       "      <td>3.807591e-02</td>\n",
       "      <td>5.068012e-02</td>\n",
       "      <td>3.124802e-02</td>\n",
       "      <td>3.564384e-02</td>\n",
       "      <td>2.835801e-02</td>\n",
       "      <td>2.984439e-02</td>\n",
       "      <td>2.931150e-02</td>\n",
       "      <td>3.430886e-02</td>\n",
       "      <td>3.243323e-02</td>\n",
       "      <td>2.791705e-02</td>\n",
       "      <td>211.500000</td>\n",
       "    </tr>\n",
       "    <tr>\n",
       "      <th>max</th>\n",
       "      <td>442.000000</td>\n",
       "      <td>1.107267e-01</td>\n",
       "      <td>5.068012e-02</td>\n",
       "      <td>1.705552e-01</td>\n",
       "      <td>1.320442e-01</td>\n",
       "      <td>1.539137e-01</td>\n",
       "      <td>1.987880e-01</td>\n",
       "      <td>1.811791e-01</td>\n",
       "      <td>1.852344e-01</td>\n",
       "      <td>1.335990e-01</td>\n",
       "      <td>1.356118e-01</td>\n",
       "      <td>346.000000</td>\n",
       "    </tr>\n",
       "  </tbody>\n",
       "</table>\n",
       "</div>"
      ],
      "text/plain": [
       "               id           age           sex           bmi            bp  \\\n",
       "count  442.000000  4.420000e+02  4.420000e+02  4.420000e+02  4.420000e+02   \n",
       "mean   221.500000 -3.634285e-16  1.308343e-16 -8.045349e-16  1.281655e-16   \n",
       "std    127.738666  4.761905e-02  4.761905e-02  4.761905e-02  4.761905e-02   \n",
       "min      1.000000 -1.072256e-01 -4.464164e-02 -9.027530e-02 -1.123996e-01   \n",
       "25%    111.250000 -3.729927e-02 -4.464164e-02 -3.422907e-02 -3.665645e-02   \n",
       "50%    221.500000  5.383060e-03 -4.464164e-02 -7.283766e-03 -5.670611e-03   \n",
       "75%    331.750000  3.807591e-02  5.068012e-02  3.124802e-02  3.564384e-02   \n",
       "max    442.000000  1.107267e-01  5.068012e-02  1.705552e-01  1.320442e-01   \n",
       "\n",
       "                 s1            s2            s3            s4            s5  \\\n",
       "count  4.420000e+02  4.420000e+02  4.420000e+02  4.420000e+02  4.420000e+02   \n",
       "mean  -8.835316e-17  1.327024e-16 -4.574646e-16  3.777301e-16 -3.830854e-16   \n",
       "std    4.761905e-02  4.761905e-02  4.761905e-02  4.761905e-02  4.761905e-02   \n",
       "min   -1.267807e-01 -1.156131e-01 -1.023071e-01 -7.639450e-02 -1.260974e-01   \n",
       "25%   -3.424784e-02 -3.035840e-02 -3.511716e-02 -3.949338e-02 -3.324879e-02   \n",
       "50%   -4.320866e-03 -3.819065e-03 -6.584468e-03 -2.592262e-03 -1.947634e-03   \n",
       "75%    2.835801e-02  2.984439e-02  2.931150e-02  3.430886e-02  3.243323e-02   \n",
       "max    1.539137e-01  1.987880e-01  1.811791e-01  1.852344e-01  1.335990e-01   \n",
       "\n",
       "                 s6      target  \n",
       "count  4.420000e+02  442.000000  \n",
       "mean  -3.412882e-16  152.133484  \n",
       "std    4.761905e-02   77.093005  \n",
       "min   -1.377672e-01   25.000000  \n",
       "25%   -3.317903e-02   87.000000  \n",
       "50%   -1.077698e-03  140.500000  \n",
       "75%    2.791705e-02  211.500000  \n",
       "max    1.356118e-01  346.000000  "
      ]
     },
     "execution_count": 11,
     "metadata": {},
     "output_type": "execute_result"
    }
   ],
   "source": [
    "new_data.describe()\n"
   ]
  },
  {
   "cell_type": "code",
   "execution_count": 12,
   "metadata": {},
   "outputs": [
    {
     "data": {
      "text/plain": [
       "id        662.500000\n",
       "age         0.151139\n",
       "sex         0.193663\n",
       "bmi         0.129464\n",
       "bp          0.144094\n",
       "s1          0.122267\n",
       "s2          0.120149\n",
       "s3          0.125954\n",
       "s4          0.145012\n",
       "s5          0.130956\n",
       "s6          0.119561\n",
       "target    398.250000\n",
       "dtype: float64"
      ]
     },
     "execution_count": 12,
     "metadata": {},
     "output_type": "execute_result"
    }
   ],
   "source": [
    "Q1 = new_data.quantile(q=0.25)\n",
    "Q3 = new_data.quantile(q=0.75)\n",
    "IQR = Q3 - Q1\n",
    "upper_limit1 = Q3 + 1.5 * IQR\n",
    "upper_limit1"
   ]
  },
  {
   "cell_type": "code",
   "execution_count": 13,
   "metadata": {},
   "outputs": [
    {
     "data": {
      "text/plain": [
       "id       -219.500000\n",
       "age        -0.150362\n",
       "sex        -0.187624\n",
       "bmi        -0.132445\n",
       "bp         -0.145107\n",
       "s1         -0.128157\n",
       "s2         -0.120663\n",
       "s3         -0.131760\n",
       "s4         -0.150197\n",
       "s5         -0.131772\n",
       "s6         -0.124823\n",
       "target    -99.750000\n",
       "dtype: float64"
      ]
     },
     "execution_count": 13,
     "metadata": {},
     "output_type": "execute_result"
    }
   ],
   "source": [
    "lower_limit1 = Q1 - 1.5 * IQR\n",
    "lower_limit1"
   ]
  },
  {
   "cell_type": "code",
   "execution_count": 14,
   "metadata": {},
   "outputs": [
    {
     "data": {
      "image/png": "[encoded data removed]",
      "text/plain": [
       "<Figure size 432x288 with 1 Axes>"
      ]
     },
     "metadata": {
      "needs_background": "light"
     },
     "output_type": "display_data"
    }
   ],
   "source": [
    "import matplotlib.pyplot as plt\n",
    "%matplotlib inline\n",
    "\n",
    "fig = new_data.boxplot(column=[\"bmi\"]) \n",
    "\n",
    "\n",
    "    "
   ]
  },
  {
   "cell_type": "code",
   "execution_count": 15,
   "metadata": {},
   "outputs": [
    {
     "data": {
      "image/png": "[encoded data removed]",
      "text/plain": [
       "<Figure size 432x288 with 1 Axes>"
      ]
     },
     "metadata": {
      "needs_background": "light"
     },
     "output_type": "display_data"
    }
   ],
   "source": [
    "fig2 = new_data.boxplot(column=[\"s1\"])"
   ]
  },
  {
   "cell_type": "code",
   "execution_count": 16,
   "metadata": {},
   "outputs": [
    {
     "data": {
      "image/png": "[encoded data removed]",
      "text/plain": [
       "<Figure size 432x288 with 1 Axes>"
      ]
     },
     "metadata": {
      "needs_background": "light"
     },
     "output_type": "display_data"
    }
   ],
   "source": [
    "fig2 = new_data.boxplot(column=[\"sex\"])"
   ]
  },
  {
   "cell_type": "code",
   "execution_count": 17,
   "metadata": {},
   "outputs": [
    {
     "data": {
      "image/png": "[encoded data removed]",
      "text/plain": [
       "<Figure size 432x288 with 1 Axes>"
      ]
     },
     "metadata": {
      "needs_background": "light"
     },
     "output_type": "display_data"
    }
   ],
   "source": [
    "fig2 = new_data.boxplot(column=[\"bp\"])"
   ]
  },
  {
   "cell_type": "code",
   "execution_count": 18,
   "metadata": {},
   "outputs": [
    {
     "data": {
      "image/png": "[encoded data removed]",
      "text/plain": [
       "<Figure size 432x288 with 1 Axes>"
      ]
     },
     "metadata": {
      "needs_background": "light"
     },
     "output_type": "display_data"
    }
   ],
   "source": [
    "fig2 = new_data.boxplot(column=[\"s2\"])"
   ]
  },
  {
   "cell_type": "code",
   "execution_count": 19,
   "metadata": {},
   "outputs": [
    {
     "data": {
      "image/png": "[encoded data removed]",
      "text/plain": [
       "<Figure size 432x288 with 1 Axes>"
      ]
     },
     "metadata": {
      "needs_background": "light"
     },
     "output_type": "display_data"
    }
   ],
   "source": [
    "fig2 = new_data.boxplot(column=[\"s3\"])"
   ]
  },
  {
   "cell_type": "code",
   "execution_count": 20,
   "metadata": {},
   "outputs": [
    {
     "data": {
      "image/png": "[encoded data removed]",
      "text/plain": [
       "<Figure size 432x288 with 1 Axes>"
      ]
     },
     "metadata": {
      "needs_background": "light"
     },
     "output_type": "display_data"
    }
   ],
   "source": [
    "fig2 = new_data.boxplot(column=[\"s4\"])"
   ]
  },
  {
   "cell_type": "code",
   "execution_count": 21,
   "metadata": {},
   "outputs": [
    {
     "data": {
      "image/png": "[encoded data removed]",
      "text/plain": [
       "<Figure size 432x288 with 1 Axes>"
      ]
     },
     "metadata": {
      "needs_background": "light"
     },
     "output_type": "display_data"
    }
   ],
   "source": [
    "fig2 = new_data.boxplot(column=[\"s5\"])"
   ]
  },
  {
   "cell_type": "code",
   "execution_count": 22,
   "metadata": {},
   "outputs": [
    {
     "data": {
      "image/png": "[encoded data removed]",
      "text/plain": [
       "<Figure size 432x288 with 1 Axes>"
      ]
     },
     "metadata": {
      "needs_background": "light"
     },
     "output_type": "display_data"
    }
   ],
   "source": [
    "fig2 = new_data.boxplot(column=[\"s6\"])"
   ]
  },
  {
   "cell_type": "code",
   "execution_count": 23,
   "metadata": {},
   "outputs": [
    {
     "data": {
      "image/png": "[encoded data removed]",
      "text/plain": [
       "<Figure size 432x288 with 1 Axes>"
      ]
     },
     "metadata": {
      "needs_background": "light"
     },
     "output_type": "display_data"
    }
   ],
   "source": [
    "fig2 = new_data.boxplot(column=[\"target\"])"
   ]
  },
  {
   "cell_type": "code",
   "execution_count": 24,
   "metadata": {},
   "outputs": [
    {
     "data": {
      "image/png": "[encoded data removed]",
      "text/plain": [
       "<Figure size 432x288 with 1 Axes>"
      ]
     },
     "metadata": {
      "needs_background": "light"
     },
     "output_type": "display_data"
    }
   ],
   "source": [
    "fig2 = new_data.boxplot(column=[\"age\"])"
   ]
  },
  {
   "cell_type": "code",
   "execution_count": null,
   "metadata": {},
   "outputs": [],
   "source": [
    "\"\"\"id        662.500000\n",
    "age         0.151139\n",
    "sex         0.193663\n",
    "bmi         0.129464\n",
    "bp          0.144094\n",
    "s1          0.122267\n",
    "s2          0.120149\n",
    "s3          0.125954\n",
    "s4          0.145012\n",
    "s5          0.130956\n",
    "s6          0.119561\n",
    "target    398.250000\n",
    "dtype: float64\"\"\"\n",
    "\n",
    "\"\"\"id       -219.500000\n",
    "age        -0.150362\n",
    "sex        -0.187624\n",
    "bmi        -0.132445\n",
    "bp         -0.145107\n",
    "s1         -0.128157\n",
    "s2         -0.120663\n",
    "s3         -0.131760\n",
    "s4         -0.150197\n",
    "s5         -0.131772\n",
    "s6         -0.124823\n",
    "target    -99.750000\n",
    "dtype: float64\"\"\""
   ]
  },
  {
   "cell_type": "markdown",
   "metadata": {},
   "source": [
    "#### Step 4 - Clean your data\n",
    "\n",
    "* Remove null or missing values\n",
    "* Clean data types\n",
    "* Remove outliers"
   ]
  },
  {
   "cell_type": "code",
   "execution_count": 32,
   "metadata": {},
   "outputs": [],
   "source": [
    "new_data = new_data.drop(new_data.index[new_data[\"bmi\"] >= 0.129464])\n"
   ]
  },
  {
   "cell_type": "code",
   "execution_count": 33,
   "metadata": {},
   "outputs": [],
   "source": [
    "new_data = new_data.drop(new_data.index[new_data[\"bmi\"] <= -0.132445])"
   ]
  },
  {
   "cell_type": "code",
   "execution_count": 34,
   "metadata": {},
   "outputs": [],
   "source": [
    "new_data = new_data.drop(new_data.index[new_data[\"s1\"] >= 0.122267])"
   ]
  },
  {
   "cell_type": "code",
   "execution_count": 35,
   "metadata": {},
   "outputs": [],
   "source": [
    "new_data = new_data.drop(new_data.index[new_data[\"s1\"] <= -0.128157])"
   ]
  },
  {
   "cell_type": "code",
   "execution_count": 36,
   "metadata": {},
   "outputs": [],
   "source": [
    "new_data = new_data.drop(new_data.index[new_data[\"s2\"] >= 0.120149])"
   ]
  },
  {
   "cell_type": "code",
   "execution_count": 37,
   "metadata": {},
   "outputs": [],
   "source": [
    "new_data = new_data.drop(new_data.index[new_data[\"s2\"] <= -0.120663])"
   ]
  },
  {
   "cell_type": "code",
   "execution_count": 38,
   "metadata": {},
   "outputs": [],
   "source": [
    "new_data = new_data.drop(new_data.index[new_data[\"s3\"] >= 0.125954])"
   ]
  },
  {
   "cell_type": "code",
   "execution_count": 39,
   "metadata": {},
   "outputs": [],
   "source": [
    "new_data = new_data.drop(new_data.index[new_data[\"s4\"] >= 0.145012])"
   ]
  },
  {
   "cell_type": "code",
   "execution_count": 60,
   "metadata": {},
   "outputs": [],
   "source": [
    "new_data = new_data.drop(new_data.index[new_data[\"s5\"] >=  0.130956])\n"
   ]
  },
  {
   "cell_type": "code",
   "execution_count": 59,
   "metadata": {},
   "outputs": [],
   "source": [
    "new_data = new_data.drop(new_data.index[new_data[\"s6\"] >=  0.119561])"
   ]
  },
  {
   "cell_type": "code",
   "execution_count": 61,
   "metadata": {},
   "outputs": [],
   "source": [
    "new_data = new_data.drop(new_data.index[new_data[\"s6\"] <=  -0.124823])"
   ]
  },
  {
   "cell_type": "code",
   "execution_count": 62,
   "metadata": {},
   "outputs": [
    {
     "data": {
      "text/html": [
       "<div>\n",
       "<style scoped>\n",
       "    .dataframe tbody tr th:only-of-type {\n",
       "        vertical-align: middle;\n",
       "    }\n",
       "\n",
       "    .dataframe tbody tr th {\n",
       "        vertical-align: top;\n",
       "    }\n",
       "\n",
       "    .dataframe thead th {\n",
       "        text-align: right;\n",
       "    }\n",
       "</style>\n",
       "<table border=\"1\" class=\"dataframe\">\n",
       "  <thead>\n",
       "    <tr style=\"text-align: right;\">\n",
       "      <th></th>\n",
       "      <th>id</th>\n",
       "      <th>age</th>\n",
       "      <th>sex</th>\n",
       "      <th>bmi</th>\n",
       "      <th>bp</th>\n",
       "      <th>s1</th>\n",
       "      <th>s2</th>\n",
       "      <th>s3</th>\n",
       "      <th>s4</th>\n",
       "      <th>s5</th>\n",
       "      <th>s6</th>\n",
       "      <th>target</th>\n",
       "    </tr>\n",
       "  </thead>\n",
       "  <tbody>\n",
       "    <tr>\n",
       "      <th>0</th>\n",
       "      <td>1</td>\n",
       "      <td>0.038076</td>\n",
       "      <td>0.050680</td>\n",
       "      <td>0.061696</td>\n",
       "      <td>0.021872</td>\n",
       "      <td>-0.044223</td>\n",
       "      <td>-0.034821</td>\n",
       "      <td>-0.043401</td>\n",
       "      <td>-0.002592</td>\n",
       "      <td>0.019908</td>\n",
       "      <td>-0.017646</td>\n",
       "      <td>151.0</td>\n",
       "    </tr>\n",
       "    <tr>\n",
       "      <th>1</th>\n",
       "      <td>2</td>\n",
       "      <td>-0.001882</td>\n",
       "      <td>-0.044642</td>\n",
       "      <td>-0.051474</td>\n",
       "      <td>-0.026328</td>\n",
       "      <td>-0.008449</td>\n",
       "      <td>-0.019163</td>\n",
       "      <td>0.074412</td>\n",
       "      <td>-0.039493</td>\n",
       "      <td>-0.068330</td>\n",
       "      <td>-0.092204</td>\n",
       "      <td>75.0</td>\n",
       "    </tr>\n",
       "    <tr>\n",
       "      <th>2</th>\n",
       "      <td>3</td>\n",
       "      <td>0.085299</td>\n",
       "      <td>0.050680</td>\n",
       "      <td>0.044451</td>\n",
       "      <td>-0.005671</td>\n",
       "      <td>-0.045599</td>\n",
       "      <td>-0.034194</td>\n",
       "      <td>-0.032356</td>\n",
       "      <td>-0.002592</td>\n",
       "      <td>0.002864</td>\n",
       "      <td>-0.025930</td>\n",
       "      <td>141.0</td>\n",
       "    </tr>\n",
       "    <tr>\n",
       "      <th>3</th>\n",
       "      <td>4</td>\n",
       "      <td>-0.089063</td>\n",
       "      <td>-0.044642</td>\n",
       "      <td>-0.011595</td>\n",
       "      <td>-0.036656</td>\n",
       "      <td>0.012191</td>\n",
       "      <td>0.024991</td>\n",
       "      <td>-0.036038</td>\n",
       "      <td>0.034309</td>\n",
       "      <td>0.022692</td>\n",
       "      <td>-0.009362</td>\n",
       "      <td>206.0</td>\n",
       "    </tr>\n",
       "    <tr>\n",
       "      <th>4</th>\n",
       "      <td>5</td>\n",
       "      <td>0.005383</td>\n",
       "      <td>-0.044642</td>\n",
       "      <td>-0.036385</td>\n",
       "      <td>0.021872</td>\n",
       "      <td>0.003935</td>\n",
       "      <td>0.015596</td>\n",
       "      <td>0.008142</td>\n",
       "      <td>-0.002592</td>\n",
       "      <td>-0.031991</td>\n",
       "      <td>-0.046641</td>\n",
       "      <td>135.0</td>\n",
       "    </tr>\n",
       "    <tr>\n",
       "      <th>...</th>\n",
       "      <td>...</td>\n",
       "      <td>...</td>\n",
       "      <td>...</td>\n",
       "      <td>...</td>\n",
       "      <td>...</td>\n",
       "      <td>...</td>\n",
       "      <td>...</td>\n",
       "      <td>...</td>\n",
       "      <td>...</td>\n",
       "      <td>...</td>\n",
       "      <td>...</td>\n",
       "      <td>...</td>\n",
       "    </tr>\n",
       "    <tr>\n",
       "      <th>436</th>\n",
       "      <td>437</td>\n",
       "      <td>-0.056370</td>\n",
       "      <td>-0.044642</td>\n",
       "      <td>-0.074108</td>\n",
       "      <td>-0.050428</td>\n",
       "      <td>-0.024960</td>\n",
       "      <td>-0.047034</td>\n",
       "      <td>0.092820</td>\n",
       "      <td>-0.076395</td>\n",
       "      <td>-0.061177</td>\n",
       "      <td>-0.046641</td>\n",
       "      <td>48.0</td>\n",
       "    </tr>\n",
       "    <tr>\n",
       "      <th>437</th>\n",
       "      <td>438</td>\n",
       "      <td>0.041708</td>\n",
       "      <td>0.050680</td>\n",
       "      <td>0.019662</td>\n",
       "      <td>0.059744</td>\n",
       "      <td>-0.005697</td>\n",
       "      <td>-0.002566</td>\n",
       "      <td>-0.028674</td>\n",
       "      <td>-0.002592</td>\n",
       "      <td>0.031193</td>\n",
       "      <td>0.007207</td>\n",
       "      <td>178.0</td>\n",
       "    </tr>\n",
       "    <tr>\n",
       "      <th>438</th>\n",
       "      <td>439</td>\n",
       "      <td>-0.005515</td>\n",
       "      <td>0.050680</td>\n",
       "      <td>-0.015906</td>\n",
       "      <td>-0.067642</td>\n",
       "      <td>0.049341</td>\n",
       "      <td>0.079165</td>\n",
       "      <td>-0.028674</td>\n",
       "      <td>0.034309</td>\n",
       "      <td>-0.018118</td>\n",
       "      <td>0.044485</td>\n",
       "      <td>104.0</td>\n",
       "    </tr>\n",
       "    <tr>\n",
       "      <th>439</th>\n",
       "      <td>440</td>\n",
       "      <td>0.041708</td>\n",
       "      <td>0.050680</td>\n",
       "      <td>-0.015906</td>\n",
       "      <td>0.017282</td>\n",
       "      <td>-0.037344</td>\n",
       "      <td>-0.013840</td>\n",
       "      <td>-0.024993</td>\n",
       "      <td>-0.011080</td>\n",
       "      <td>-0.046879</td>\n",
       "      <td>0.015491</td>\n",
       "      <td>132.0</td>\n",
       "    </tr>\n",
       "    <tr>\n",
       "      <th>440</th>\n",
       "      <td>441</td>\n",
       "      <td>-0.045472</td>\n",
       "      <td>-0.044642</td>\n",
       "      <td>0.039062</td>\n",
       "      <td>0.001215</td>\n",
       "      <td>0.016318</td>\n",
       "      <td>0.015283</td>\n",
       "      <td>-0.028674</td>\n",
       "      <td>0.026560</td>\n",
       "      <td>0.044528</td>\n",
       "      <td>-0.025930</td>\n",
       "      <td>220.0</td>\n",
       "    </tr>\n",
       "  </tbody>\n",
       "</table>\n",
       "<p>405 rows × 12 columns</p>\n",
       "</div>"
      ],
      "text/plain": [
       "      id       age       sex       bmi        bp        s1        s2  \\\n",
       "0      1  0.038076  0.050680  0.061696  0.021872 -0.044223 -0.034821   \n",
       "1      2 -0.001882 -0.044642 -0.051474 -0.026328 -0.008449 -0.019163   \n",
       "2      3  0.085299  0.050680  0.044451 -0.005671 -0.045599 -0.034194   \n",
       "3      4 -0.089063 -0.044642 -0.011595 -0.036656  0.012191  0.024991   \n",
       "4      5  0.005383 -0.044642 -0.036385  0.021872  0.003935  0.015596   \n",
       "..   ...       ...       ...       ...       ...       ...       ...   \n",
       "436  437 -0.056370 -0.044642 -0.074108 -0.050428 -0.024960 -0.047034   \n",
       "437  438  0.041708  0.050680  0.019662  0.059744 -0.005697 -0.002566   \n",
       "438  439 -0.005515  0.050680 -0.015906 -0.067642  0.049341  0.079165   \n",
       "439  440  0.041708  0.050680 -0.015906  0.017282 -0.037344 -0.013840   \n",
       "440  441 -0.045472 -0.044642  0.039062  0.001215  0.016318  0.015283   \n",
       "\n",
       "           s3        s4        s5        s6  target  \n",
       "0   -0.043401 -0.002592  0.019908 -0.017646   151.0  \n",
       "1    0.074412 -0.039493 -0.068330 -0.092204    75.0  \n",
       "2   -0.032356 -0.002592  0.002864 -0.025930   141.0  \n",
       "3   -0.036038  0.034309  0.022692 -0.009362   206.0  \n",
       "4    0.008142 -0.002592 -0.031991 -0.046641   135.0  \n",
       "..        ...       ...       ...       ...     ...  \n",
       "436  0.092820 -0.076395 -0.061177 -0.046641    48.0  \n",
       "437 -0.028674 -0.002592  0.031193  0.007207   178.0  \n",
       "438 -0.028674  0.034309 -0.018118  0.044485   104.0  \n",
       "439 -0.024993 -0.011080 -0.046879  0.015491   132.0  \n",
       "440 -0.028674  0.026560  0.044528 -0.025930   220.0  \n",
       "\n",
       "[405 rows x 12 columns]"
      ]
     },
     "execution_count": 62,
     "metadata": {},
     "output_type": "execute_result"
    }
   ],
   "source": [
    "new_data"
   ]
  },
  {
   "cell_type": "code",
   "execution_count": 63,
   "metadata": {},
   "outputs": [
    {
     "data": {
      "text/plain": [
       "<AxesSubplot:>"
      ]
     },
     "execution_count": 63,
     "metadata": {},
     "output_type": "execute_result"
    },
    {
     "data": {
      "image/png": "[encoded data removed]",
      "text/plain": [
       "<Figure size 432x288 with 1 Axes>"
      ]
     },
     "metadata": {
      "needs_background": "light"
     },
     "output_type": "display_data"
    }
   ],
   "source": [
    "new_data[\"s4\"].hist()"
   ]
  },
  {
   "cell_type": "code",
   "execution_count": 71,
   "metadata": {},
   "outputs": [
    {
     "data": {
      "image/png": "[encoded data removed]",
      "text/plain": [
       "<Figure size 432x288 with 1 Axes>"
      ]
     },
     "metadata": {
      "needs_background": "light"
     },
     "output_type": "display_data"
    }
   ],
   "source": [
    "fig=new_data.boxplot(column=[\"s6\"])"
   ]
  },
  {
   "cell_type": "code",
   "execution_count": 72,
   "metadata": {},
   "outputs": [
    {
     "data": {
      "text/plain": [
       "id        604.988885\n",
       "age         0.144483\n",
       "sex         0.142964\n",
       "bmi         0.134793\n",
       "bp          0.138984\n",
       "s1          0.126069\n",
       "s2          0.129446\n",
       "s3          0.128641\n",
       "s4          0.124469\n",
       "s5          0.127318\n",
       "s6          0.129779\n",
       "target    373.231272\n",
       "dtype: float64"
      ]
     },
     "execution_count": 72,
     "metadata": {},
     "output_type": "execute_result"
    }
   ],
   "source": [
    "#another way for detecting outliers:\n",
    "\n",
    "standard_deviation = new_data.std()\n",
    "mean = new_data.mean()\n",
    "upper_limit2 = mean + 3 * standard_deviation\n",
    "upper_limit2"
   ]
  },
  {
   "cell_type": "code",
   "execution_count": 73,
   "metadata": {},
   "outputs": [
    {
     "data": {
      "text/plain": [
       "id       -167.561725\n",
       "age        -0.145395\n",
       "sex        -0.142809\n",
       "bmi        -0.138566\n",
       "bp         -0.140351\n",
       "s1         -0.135533\n",
       "s2         -0.134468\n",
       "s3         -0.130547\n",
       "s4         -0.131420\n",
       "s5         -0.135127\n",
       "s6         -0.134819\n",
       "target    -76.199174\n",
       "dtype: float64"
      ]
     },
     "execution_count": 73,
     "metadata": {},
     "output_type": "execute_result"
    }
   ],
   "source": [
    "lower_limit2 = mean - 3 * standard_deviation\n",
    "lower_limit2"
   ]
  },
  {
   "cell_type": "code",
   "execution_count": 18,
   "metadata": {},
   "outputs": [
    {
     "data": {
      "text/html": [
       "<div>\n",
       "<style scoped>\n",
       "    .dataframe tbody tr th:only-of-type {\n",
       "        vertical-align: middle;\n",
       "    }\n",
       "\n",
       "    .dataframe tbody tr th {\n",
       "        vertical-align: top;\n",
       "    }\n",
       "\n",
       "    .dataframe thead th {\n",
       "        text-align: right;\n",
       "    }\n",
       "</style>\n",
       "<table border=\"1\" class=\"dataframe\">\n",
       "  <thead>\n",
       "    <tr style=\"text-align: right;\">\n",
       "      <th></th>\n",
       "      <th>id</th>\n",
       "      <th>age</th>\n",
       "      <th>sex</th>\n",
       "      <th>bmi</th>\n",
       "      <th>bp</th>\n",
       "      <th>s1</th>\n",
       "      <th>s2</th>\n",
       "      <th>s3</th>\n",
       "      <th>s4</th>\n",
       "      <th>s5</th>\n",
       "      <th>s6</th>\n",
       "      <th>target</th>\n",
       "    </tr>\n",
       "  </thead>\n",
       "  <tbody>\n",
       "    <tr>\n",
       "      <th>0</th>\n",
       "      <td>1</td>\n",
       "      <td>0.038076</td>\n",
       "      <td>0.050680</td>\n",
       "      <td>0.061696</td>\n",
       "      <td>0.021872</td>\n",
       "      <td>-0.044223</td>\n",
       "      <td>-0.034821</td>\n",
       "      <td>-0.043401</td>\n",
       "      <td>-0.002592</td>\n",
       "      <td>0.019908</td>\n",
       "      <td>-0.017646</td>\n",
       "      <td>151.0</td>\n",
       "    </tr>\n",
       "    <tr>\n",
       "      <th>1</th>\n",
       "      <td>2</td>\n",
       "      <td>-0.001882</td>\n",
       "      <td>-0.044642</td>\n",
       "      <td>-0.051474</td>\n",
       "      <td>-0.026328</td>\n",
       "      <td>-0.008449</td>\n",
       "      <td>-0.019163</td>\n",
       "      <td>0.074412</td>\n",
       "      <td>-0.039493</td>\n",
       "      <td>-0.068330</td>\n",
       "      <td>-0.092204</td>\n",
       "      <td>75.0</td>\n",
       "    </tr>\n",
       "    <tr>\n",
       "      <th>2</th>\n",
       "      <td>3</td>\n",
       "      <td>0.085299</td>\n",
       "      <td>0.050680</td>\n",
       "      <td>0.044451</td>\n",
       "      <td>-0.005671</td>\n",
       "      <td>-0.045599</td>\n",
       "      <td>-0.034194</td>\n",
       "      <td>-0.032356</td>\n",
       "      <td>-0.002592</td>\n",
       "      <td>0.002864</td>\n",
       "      <td>-0.025930</td>\n",
       "      <td>141.0</td>\n",
       "    </tr>\n",
       "    <tr>\n",
       "      <th>3</th>\n",
       "      <td>4</td>\n",
       "      <td>-0.089063</td>\n",
       "      <td>-0.044642</td>\n",
       "      <td>-0.011595</td>\n",
       "      <td>-0.036656</td>\n",
       "      <td>0.012191</td>\n",
       "      <td>0.024991</td>\n",
       "      <td>-0.036038</td>\n",
       "      <td>0.034309</td>\n",
       "      <td>0.022692</td>\n",
       "      <td>-0.009362</td>\n",
       "      <td>206.0</td>\n",
       "    </tr>\n",
       "    <tr>\n",
       "      <th>4</th>\n",
       "      <td>5</td>\n",
       "      <td>0.005383</td>\n",
       "      <td>-0.044642</td>\n",
       "      <td>-0.036385</td>\n",
       "      <td>0.021872</td>\n",
       "      <td>0.003935</td>\n",
       "      <td>0.015596</td>\n",
       "      <td>0.008142</td>\n",
       "      <td>-0.002592</td>\n",
       "      <td>-0.031991</td>\n",
       "      <td>-0.046641</td>\n",
       "      <td>135.0</td>\n",
       "    </tr>\n",
       "    <tr>\n",
       "      <th>...</th>\n",
       "      <td>...</td>\n",
       "      <td>...</td>\n",
       "      <td>...</td>\n",
       "      <td>...</td>\n",
       "      <td>...</td>\n",
       "      <td>...</td>\n",
       "      <td>...</td>\n",
       "      <td>...</td>\n",
       "      <td>...</td>\n",
       "      <td>...</td>\n",
       "      <td>...</td>\n",
       "      <td>...</td>\n",
       "    </tr>\n",
       "    <tr>\n",
       "      <th>436</th>\n",
       "      <td>437</td>\n",
       "      <td>-0.056370</td>\n",
       "      <td>-0.044642</td>\n",
       "      <td>-0.074108</td>\n",
       "      <td>-0.050428</td>\n",
       "      <td>-0.024960</td>\n",
       "      <td>-0.047034</td>\n",
       "      <td>0.092820</td>\n",
       "      <td>-0.076395</td>\n",
       "      <td>-0.061177</td>\n",
       "      <td>-0.046641</td>\n",
       "      <td>48.0</td>\n",
       "    </tr>\n",
       "    <tr>\n",
       "      <th>437</th>\n",
       "      <td>438</td>\n",
       "      <td>0.041708</td>\n",
       "      <td>0.050680</td>\n",
       "      <td>0.019662</td>\n",
       "      <td>0.059744</td>\n",
       "      <td>-0.005697</td>\n",
       "      <td>-0.002566</td>\n",
       "      <td>-0.028674</td>\n",
       "      <td>-0.002592</td>\n",
       "      <td>0.031193</td>\n",
       "      <td>0.007207</td>\n",
       "      <td>178.0</td>\n",
       "    </tr>\n",
       "    <tr>\n",
       "      <th>438</th>\n",
       "      <td>439</td>\n",
       "      <td>-0.005515</td>\n",
       "      <td>0.050680</td>\n",
       "      <td>-0.015906</td>\n",
       "      <td>-0.067642</td>\n",
       "      <td>0.049341</td>\n",
       "      <td>0.079165</td>\n",
       "      <td>-0.028674</td>\n",
       "      <td>0.034309</td>\n",
       "      <td>-0.018118</td>\n",
       "      <td>0.044485</td>\n",
       "      <td>104.0</td>\n",
       "    </tr>\n",
       "    <tr>\n",
       "      <th>439</th>\n",
       "      <td>440</td>\n",
       "      <td>0.041708</td>\n",
       "      <td>0.050680</td>\n",
       "      <td>-0.015906</td>\n",
       "      <td>0.017282</td>\n",
       "      <td>-0.037344</td>\n",
       "      <td>-0.013840</td>\n",
       "      <td>-0.024993</td>\n",
       "      <td>-0.011080</td>\n",
       "      <td>-0.046879</td>\n",
       "      <td>0.015491</td>\n",
       "      <td>132.0</td>\n",
       "    </tr>\n",
       "    <tr>\n",
       "      <th>440</th>\n",
       "      <td>441</td>\n",
       "      <td>-0.045472</td>\n",
       "      <td>-0.044642</td>\n",
       "      <td>0.039062</td>\n",
       "      <td>0.001215</td>\n",
       "      <td>0.016318</td>\n",
       "      <td>0.015283</td>\n",
       "      <td>-0.028674</td>\n",
       "      <td>0.026560</td>\n",
       "      <td>0.044528</td>\n",
       "      <td>-0.025930</td>\n",
       "      <td>220.0</td>\n",
       "    </tr>\n",
       "  </tbody>\n",
       "</table>\n",
       "<p>409 rows × 12 columns</p>\n",
       "</div>"
      ],
      "text/plain": [
       "      id       age       sex       bmi        bp        s1        s2  \\\n",
       "0      1  0.038076  0.050680  0.061696  0.021872 -0.044223 -0.034821   \n",
       "1      2 -0.001882 -0.044642 -0.051474 -0.026328 -0.008449 -0.019163   \n",
       "2      3  0.085299  0.050680  0.044451 -0.005671 -0.045599 -0.034194   \n",
       "3      4 -0.089063 -0.044642 -0.011595 -0.036656  0.012191  0.024991   \n",
       "4      5  0.005383 -0.044642 -0.036385  0.021872  0.003935  0.015596   \n",
       "..   ...       ...       ...       ...       ...       ...       ...   \n",
       "436  437 -0.056370 -0.044642 -0.074108 -0.050428 -0.024960 -0.047034   \n",
       "437  438  0.041708  0.050680  0.019662  0.059744 -0.005697 -0.002566   \n",
       "438  439 -0.005515  0.050680 -0.015906 -0.067642  0.049341  0.079165   \n",
       "439  440  0.041708  0.050680 -0.015906  0.017282 -0.037344 -0.013840   \n",
       "440  441 -0.045472 -0.044642  0.039062  0.001215  0.016318  0.015283   \n",
       "\n",
       "           s3        s4        s5        s6  target  \n",
       "0   -0.043401 -0.002592  0.019908 -0.017646   151.0  \n",
       "1    0.074412 -0.039493 -0.068330 -0.092204    75.0  \n",
       "2   -0.032356 -0.002592  0.002864 -0.025930   141.0  \n",
       "3   -0.036038  0.034309  0.022692 -0.009362   206.0  \n",
       "4    0.008142 -0.002592 -0.031991 -0.046641   135.0  \n",
       "..        ...       ...       ...       ...     ...  \n",
       "436  0.092820 -0.076395 -0.061177 -0.046641    48.0  \n",
       "437 -0.028674 -0.002592  0.031193  0.007207   178.0  \n",
       "438 -0.028674  0.034309 -0.018118  0.044485   104.0  \n",
       "439 -0.024993 -0.011080 -0.046879  0.015491   132.0  \n",
       "440 -0.028674  0.026560  0.044528 -0.025930   220.0  \n",
       "\n",
       "[409 rows x 12 columns]"
      ]
     },
     "execution_count": 18,
     "metadata": {},
     "output_type": "execute_result"
    }
   ],
   "source": [
    "new_data = new_data.drop(new_data.index[new_data[\"s6\"] >= 0.129779])\n",
    "new_data"
   ]
  },
  {
   "cell_type": "code",
   "execution_count": 76,
   "metadata": {},
   "outputs": [
    {
     "data": {
      "image/png": "[encoded data removed]",
      "text/plain": [
       "<Figure size 432x288 with 1 Axes>"
      ]
     },
     "metadata": {
      "needs_background": "light"
     },
     "output_type": "display_data"
    }
   ],
   "source": [
    "fig=new_data.boxplot(column=[\"s6\"])"
   ]
  },
  {
   "cell_type": "code",
   "execution_count": 20,
   "metadata": {},
   "outputs": [
    {
     "name": "stderr",
     "output_type": "stream",
     "text": [
      "<ipython-input-20-7671e0ba3b50>:3: FutureWarning: Automatic reindexing on DataFrame vs Series comparisons is deprecated and will raise ValueError in a future version.  Do `left, right = left.align(right, axis=1, copy=False)` before e.g. `left == right`\n",
      "  new_data = new_data[~((new_data[cols] < (Q1 - 1.5 * IQR)) |(new_data[cols] > (Q3 + 1.5 * IQR))).any(axis=1)]\n",
      "<ipython-input-20-7671e0ba3b50>:3: FutureWarning: Automatic reindexing on DataFrame vs Series comparisons is deprecated and will raise ValueError in a future version.  Do `left, right = left.align(right, axis=1, copy=False)` before e.g. `left == right`\n",
      "  new_data = new_data[~((new_data[cols] < (Q1 - 1.5 * IQR)) |(new_data[cols] > (Q3 + 1.5 * IQR))).any(axis=1)]\n"
     ]
    }
   ],
   "source": [
    "#Another round of data cleaning\n",
    "cols=[\"age\", \"sex\", \"bmi\", \"bp\", \"s1\", \"s2\", \"s3\", \"s4\", \"s5\", \"s6\", \"target\"]\n",
    "new_data = new_data[~((new_data[cols] < (Q1 - 1.5 * IQR)) |(new_data[cols] > (Q3 + 1.5 * IQR))).any(axis=1)]"
   ]
  },
  {
   "cell_type": "code",
   "execution_count": 21,
   "metadata": {},
   "outputs": [
    {
     "data": {
      "text/html": [
       "<div>\n",
       "<style scoped>\n",
       "    .dataframe tbody tr th:only-of-type {\n",
       "        vertical-align: middle;\n",
       "    }\n",
       "\n",
       "    .dataframe tbody tr th {\n",
       "        vertical-align: top;\n",
       "    }\n",
       "\n",
       "    .dataframe thead th {\n",
       "        text-align: right;\n",
       "    }\n",
       "</style>\n",
       "<table border=\"1\" class=\"dataframe\">\n",
       "  <thead>\n",
       "    <tr style=\"text-align: right;\">\n",
       "      <th></th>\n",
       "      <th>id</th>\n",
       "      <th>age</th>\n",
       "      <th>sex</th>\n",
       "      <th>bmi</th>\n",
       "      <th>bp</th>\n",
       "      <th>s1</th>\n",
       "      <th>s2</th>\n",
       "      <th>s3</th>\n",
       "      <th>s4</th>\n",
       "      <th>s5</th>\n",
       "      <th>s6</th>\n",
       "      <th>target</th>\n",
       "    </tr>\n",
       "  </thead>\n",
       "  <tbody>\n",
       "    <tr>\n",
       "      <th>0</th>\n",
       "      <td>1</td>\n",
       "      <td>0.038076</td>\n",
       "      <td>0.050680</td>\n",
       "      <td>0.061696</td>\n",
       "      <td>0.021872</td>\n",
       "      <td>-0.044223</td>\n",
       "      <td>-0.034821</td>\n",
       "      <td>-0.043401</td>\n",
       "      <td>-0.002592</td>\n",
       "      <td>0.019908</td>\n",
       "      <td>-0.017646</td>\n",
       "      <td>151.0</td>\n",
       "    </tr>\n",
       "    <tr>\n",
       "      <th>1</th>\n",
       "      <td>2</td>\n",
       "      <td>-0.001882</td>\n",
       "      <td>-0.044642</td>\n",
       "      <td>-0.051474</td>\n",
       "      <td>-0.026328</td>\n",
       "      <td>-0.008449</td>\n",
       "      <td>-0.019163</td>\n",
       "      <td>0.074412</td>\n",
       "      <td>-0.039493</td>\n",
       "      <td>-0.068330</td>\n",
       "      <td>-0.092204</td>\n",
       "      <td>75.0</td>\n",
       "    </tr>\n",
       "    <tr>\n",
       "      <th>2</th>\n",
       "      <td>3</td>\n",
       "      <td>0.085299</td>\n",
       "      <td>0.050680</td>\n",
       "      <td>0.044451</td>\n",
       "      <td>-0.005671</td>\n",
       "      <td>-0.045599</td>\n",
       "      <td>-0.034194</td>\n",
       "      <td>-0.032356</td>\n",
       "      <td>-0.002592</td>\n",
       "      <td>0.002864</td>\n",
       "      <td>-0.025930</td>\n",
       "      <td>141.0</td>\n",
       "    </tr>\n",
       "    <tr>\n",
       "      <th>3</th>\n",
       "      <td>4</td>\n",
       "      <td>-0.089063</td>\n",
       "      <td>-0.044642</td>\n",
       "      <td>-0.011595</td>\n",
       "      <td>-0.036656</td>\n",
       "      <td>0.012191</td>\n",
       "      <td>0.024991</td>\n",
       "      <td>-0.036038</td>\n",
       "      <td>0.034309</td>\n",
       "      <td>0.022692</td>\n",
       "      <td>-0.009362</td>\n",
       "      <td>206.0</td>\n",
       "    </tr>\n",
       "    <tr>\n",
       "      <th>4</th>\n",
       "      <td>5</td>\n",
       "      <td>0.005383</td>\n",
       "      <td>-0.044642</td>\n",
       "      <td>-0.036385</td>\n",
       "      <td>0.021872</td>\n",
       "      <td>0.003935</td>\n",
       "      <td>0.015596</td>\n",
       "      <td>0.008142</td>\n",
       "      <td>-0.002592</td>\n",
       "      <td>-0.031991</td>\n",
       "      <td>-0.046641</td>\n",
       "      <td>135.0</td>\n",
       "    </tr>\n",
       "    <tr>\n",
       "      <th>...</th>\n",
       "      <td>...</td>\n",
       "      <td>...</td>\n",
       "      <td>...</td>\n",
       "      <td>...</td>\n",
       "      <td>...</td>\n",
       "      <td>...</td>\n",
       "      <td>...</td>\n",
       "      <td>...</td>\n",
       "      <td>...</td>\n",
       "      <td>...</td>\n",
       "      <td>...</td>\n",
       "      <td>...</td>\n",
       "    </tr>\n",
       "    <tr>\n",
       "      <th>436</th>\n",
       "      <td>437</td>\n",
       "      <td>-0.056370</td>\n",
       "      <td>-0.044642</td>\n",
       "      <td>-0.074108</td>\n",
       "      <td>-0.050428</td>\n",
       "      <td>-0.024960</td>\n",
       "      <td>-0.047034</td>\n",
       "      <td>0.092820</td>\n",
       "      <td>-0.076395</td>\n",
       "      <td>-0.061177</td>\n",
       "      <td>-0.046641</td>\n",
       "      <td>48.0</td>\n",
       "    </tr>\n",
       "    <tr>\n",
       "      <th>437</th>\n",
       "      <td>438</td>\n",
       "      <td>0.041708</td>\n",
       "      <td>0.050680</td>\n",
       "      <td>0.019662</td>\n",
       "      <td>0.059744</td>\n",
       "      <td>-0.005697</td>\n",
       "      <td>-0.002566</td>\n",
       "      <td>-0.028674</td>\n",
       "      <td>-0.002592</td>\n",
       "      <td>0.031193</td>\n",
       "      <td>0.007207</td>\n",
       "      <td>178.0</td>\n",
       "    </tr>\n",
       "    <tr>\n",
       "      <th>438</th>\n",
       "      <td>439</td>\n",
       "      <td>-0.005515</td>\n",
       "      <td>0.050680</td>\n",
       "      <td>-0.015906</td>\n",
       "      <td>-0.067642</td>\n",
       "      <td>0.049341</td>\n",
       "      <td>0.079165</td>\n",
       "      <td>-0.028674</td>\n",
       "      <td>0.034309</td>\n",
       "      <td>-0.018118</td>\n",
       "      <td>0.044485</td>\n",
       "      <td>104.0</td>\n",
       "    </tr>\n",
       "    <tr>\n",
       "      <th>439</th>\n",
       "      <td>440</td>\n",
       "      <td>0.041708</td>\n",
       "      <td>0.050680</td>\n",
       "      <td>-0.015906</td>\n",
       "      <td>0.017282</td>\n",
       "      <td>-0.037344</td>\n",
       "      <td>-0.013840</td>\n",
       "      <td>-0.024993</td>\n",
       "      <td>-0.011080</td>\n",
       "      <td>-0.046879</td>\n",
       "      <td>0.015491</td>\n",
       "      <td>132.0</td>\n",
       "    </tr>\n",
       "    <tr>\n",
       "      <th>440</th>\n",
       "      <td>441</td>\n",
       "      <td>-0.045472</td>\n",
       "      <td>-0.044642</td>\n",
       "      <td>0.039062</td>\n",
       "      <td>0.001215</td>\n",
       "      <td>0.016318</td>\n",
       "      <td>0.015283</td>\n",
       "      <td>-0.028674</td>\n",
       "      <td>0.026560</td>\n",
       "      <td>0.044528</td>\n",
       "      <td>-0.025930</td>\n",
       "      <td>220.0</td>\n",
       "    </tr>\n",
       "  </tbody>\n",
       "</table>\n",
       "<p>409 rows × 12 columns</p>\n",
       "</div>"
      ],
      "text/plain": [
       "      id       age       sex       bmi        bp        s1        s2  \\\n",
       "0      1  0.038076  0.050680  0.061696  0.021872 -0.044223 -0.034821   \n",
       "1      2 -0.001882 -0.044642 -0.051474 -0.026328 -0.008449 -0.019163   \n",
       "2      3  0.085299  0.050680  0.044451 -0.005671 -0.045599 -0.034194   \n",
       "3      4 -0.089063 -0.044642 -0.011595 -0.036656  0.012191  0.024991   \n",
       "4      5  0.005383 -0.044642 -0.036385  0.021872  0.003935  0.015596   \n",
       "..   ...       ...       ...       ...       ...       ...       ...   \n",
       "436  437 -0.056370 -0.044642 -0.074108 -0.050428 -0.024960 -0.047034   \n",
       "437  438  0.041708  0.050680  0.019662  0.059744 -0.005697 -0.002566   \n",
       "438  439 -0.005515  0.050680 -0.015906 -0.067642  0.049341  0.079165   \n",
       "439  440  0.041708  0.050680 -0.015906  0.017282 -0.037344 -0.013840   \n",
       "440  441 -0.045472 -0.044642  0.039062  0.001215  0.016318  0.015283   \n",
       "\n",
       "           s3        s4        s5        s6  target  \n",
       "0   -0.043401 -0.002592  0.019908 -0.017646   151.0  \n",
       "1    0.074412 -0.039493 -0.068330 -0.092204    75.0  \n",
       "2   -0.032356 -0.002592  0.002864 -0.025930   141.0  \n",
       "3   -0.036038  0.034309  0.022692 -0.009362   206.0  \n",
       "4    0.008142 -0.002592 -0.031991 -0.046641   135.0  \n",
       "..        ...       ...       ...       ...     ...  \n",
       "436  0.092820 -0.076395 -0.061177 -0.046641    48.0  \n",
       "437 -0.028674 -0.002592  0.031193  0.007207   178.0  \n",
       "438 -0.028674  0.034309 -0.018118  0.044485   104.0  \n",
       "439 -0.024993 -0.011080 -0.046879  0.015491   132.0  \n",
       "440 -0.028674  0.026560  0.044528 -0.025930   220.0  \n",
       "\n",
       "[409 rows x 12 columns]"
      ]
     },
     "execution_count": 21,
     "metadata": {},
     "output_type": "execute_result"
    }
   ],
   "source": [
    "new_data"
   ]
  },
  {
   "cell_type": "markdown",
   "metadata": {},
   "source": [
    "#### Step 5 - Split your dataset into a training and test data set using scikit-learn's train_test_split() method"
   ]
  },
  {
   "cell_type": "code",
   "execution_count": null,
   "metadata": {},
   "outputs": [],
   "source": []
  },
  {
   "cell_type": "code",
   "execution_count": 6,
   "metadata": {},
   "outputs": [],
   "source": [
    "# Your code goes here\n",
    "data.reset_index(inplace=True)\n",
    "data.set_index(\"id\", inplace = True) "
   ]
  },
  {
   "cell_type": "markdown",
   "metadata": {},
   "source": [
    "#### Step 6 - Develop a class that accepts X, y on the constructor and implements the functionality highlighted below. \n",
    "\n",
    "* The constructor takes in a matrix, X, with the observations (independent variables) and the target, y, (dependent variable)\n",
    "* Has a method fit where it trains THREE different regressors\n",
    "* Reports the average of all predictors as the final target value \n",
    "* Can compute the MSE and MAE for any prediction\n",
    "* Has a method predict that can be used to predict the target variable for unseen data. The final prediction is an\n",
    "average off the values predicted by the regressors\n",
    "* (Optional) Extend the class to use an arbitrary number of regressors "
   ]
  },
  {
   "cell_type": "code",
   "execution_count": 10,
   "metadata": {},
   "outputs": [],
   "source": [
    "# Implement the methods below + add any methods you think are necessary to create this Regressor class\n",
    "class Regressor:\n",
    "    def __init__(self, X, y):\n",
    "        pass \n",
    "    \n",
    "    def fit(self, *args, **kwargs):\n",
    "        pass \n",
    "    \n",
    "    def predict(self, *args, **kwargs):\n",
    "        pass \n",
    "    \n",
    "    def mse(self, *args, **kwargs):\n",
    "        pass\n",
    "    \n",
    "    def mae(self, *args, **kwargs):\n",
    "        pass"
   ]
  },
  {
   "cell_type": "markdown",
   "metadata": {},
   "source": [
    "#### Step 7 - Train a Regressor on the data provided using the class you created"
   ]
  },
  {
   "cell_type": "code",
   "execution_count": 16,
   "metadata": {},
   "outputs": [],
   "source": [
    "# Your code goes here"
   ]
  },
  {
   "cell_type": "markdown",
   "metadata": {},
   "source": [
    "#### Step 8 - Validate the regressors MAE and MSE on the training set"
   ]
  },
  {
   "cell_type": "code",
   "execution_count": 17,
   "metadata": {},
   "outputs": [],
   "source": [
    "# Your code goes here"
   ]
  },
  {
   "cell_type": "markdown",
   "metadata": {},
   "source": [
    "#### Step 9 - Validate the regressor's MAE and MSE on the test set"
   ]
  },
  {
   "cell_type": "code",
   "execution_count": 18,
   "metadata": {},
   "outputs": [],
   "source": [
    "# Your code goes here"
   ]
  },
  {
   "cell_type": "markdown",
   "metadata": {},
   "source": [
    "#### Step 10 - What conclusions can you draw from the MSE and MAE? \n",
    "* Is your model accurately predicting the target?\n",
    "* Do you think you are overfitting?\n",
    "* Do you think your model is biased?\n",
    "* What could you do to improve your regressor's predictive power?"
   ]
  },
  {
   "cell_type": "code",
   "execution_count": 19,
   "metadata": {},
   "outputs": [],
   "source": [
    "# Your code goes here"
   ]
  },
  {
   "cell_type": "markdown",
   "metadata": {},
   "source": [
    "#### Step 11 - Visualise your data (optional)\n",
    "\n",
    "Your data is multi-dimensional. Can you think of a way to visualise the data and the regressor results? "
   ]
  },
  {
   "cell_type": "code",
   "execution_count": 21,
   "metadata": {},
   "outputs": [],
   "source": [
    "# Your code goes here"
   ]
  },
  {
   "cell_type": "code",
   "execution_count": null,
   "metadata": {},
   "outputs": [],
   "source": []
  }
 ],
 "metadata": {
  "kernelspec": {
   "display_name": "Python 3",
   "language": "python",
   "name": "python3"
  },
  "language_info": {
   "codemirror_mode": {
    "name": "ipython",
    "version": 3
   },
   "file_extension": ".py",
   "mimetype": "text/x-python",
   "name": "python",
   "nbconvert_exporter": "python",
   "pygments_lexer": "ipython3",
   "version": "3.8.8"
  }
 },
 "nbformat": 4,
 "nbformat_minor": 2
}
